{
 "cells": [
  {
   "cell_type": "code",
   "execution_count": 2,
   "id": "6e63987f-ddf5-45ff-a545-24d4ffdc93a2",
   "metadata": {},
   "outputs": [],
   "source": [
    "'''Q1. Create one variable containing following type of data:\n",
    "(i) string\n",
    "(ii) list\n",
    "(iii) float\n",
    "(iv) tuple'''\n",
    "\n",
    "my_string = \"I Love Python\"\n",
    "my_list = [1,2,3,'a','b,c']\n",
    "my_float = 123.45\n",
    "my_tuple = (1,2,3)"
   ]
  },
  {
   "cell_type": "code",
   "execution_count": 9,
   "id": "ca960766-eb15-4619-8863-19797e7731b7",
   "metadata": {},
   "outputs": [
    {
     "name": "stdout",
     "output_type": "stream",
     "text": [
      "var1_typ is: <class 'str'>\n",
      "var2_typ is: <class 'str'>\n",
      "var3_typ is: <class 'list'>\n",
      "var4_typ is: <class 'int'>\n"
     ]
    }
   ],
   "source": [
    "'''Q2. Given are some following variables containing data:\n",
    "(i) var1 = ‘ ‘\n",
    "(ii) var2 = ‘[ DS , ML , Python]’\n",
    "(iii) var3 = [ ‘DS’ , ’ML’ , ‘Python’ ]\n",
    "(iv) var4 = 1.\n",
    "What will be the data type of the above given variable.'''\n",
    "var1 = ' '\n",
    "var2 = '[ DS , ML , Python]'\n",
    "var3 = [ 'DS' , 'ML' , 'Python' ]\n",
    "var4 = 1\n",
    "\n",
    "var1_typ = type(var1)\n",
    "var2_typ = type(var2)\n",
    "var3_typ = type(var3)\n",
    "var4_typ =type(var4)\n",
    "\n",
    "print(\"var1_typ is:\", var1_typ)\n",
    "print(\"var2_typ is:\",var2_typ)\n",
    "print(\"var3_typ is:\",var3_typ)\n",
    "print(\"var4_typ is:\",var4_typ)"
   ]
  },
  {
   "cell_type": "code",
   "execution_count": 12,
   "id": "21661dd7-2c88-4a1e-ab37-216088b70036",
   "metadata": {},
   "outputs": [
    {
     "name": "stdout",
     "output_type": "stream",
     "text": [
      "Division: 3.0\n",
      "Modulus: 0\n",
      "Floor Division: 2\n",
      "Exponentiation: 8\n"
     ]
    }
   ],
   "source": [
    "'''Q3. Explain the use of the following operators using an example:\n",
    "(i) /\n",
    "(ii) %\n",
    "(iii) //\n",
    "(iv) **'''\n",
    "\n",
    "# / - Division - Used for division and give result in float\n",
    "div = 6/2\n",
    "print(\"Division:\",div)\n",
    "# % Modulus - Used to check divisibility or calculate remainder\n",
    "mod = 6 % 2\n",
    "print(\"Modulus:\",mod)\n",
    "# // - Floor Division - Used for division and get result to the nearest integer\n",
    "fd = 5 // 2\n",
    "print(\"Floor Division:\", fd)\n",
    "# ** - Exponentiation - Used for power of number\n",
    "exp = 2 ** 3\n",
    "print(\"Exponentiation:\",exp)"
   ]
  },
  {
   "cell_type": "code",
   "execution_count": 18,
   "id": "57113b2f-2ec1-40d8-beb3-a70835a5f9c7",
   "metadata": {},
   "outputs": [
    {
     "name": "stdout",
     "output_type": "stream",
     "text": [
      "Length Of my list: 10\n",
      "1 : <class 'int'>\n",
      "2.3 : <class 'float'>\n",
      "python : <class 'str'>\n",
      "[1, 2, 3] : <class 'list'>\n",
      "(4, 5) : <class 'tuple'>\n",
      "None : <class 'NoneType'>\n",
      "True : <class 'bool'>\n",
      "False : <class 'bool'>\n",
      "Hello : <class 'str'>\n",
      "{'FName': 'Himanshu', 'LName': 'Chaudhari'} : <class 'dict'>\n"
     ]
    }
   ],
   "source": [
    "'''Q4. Create a list of length 10 of your choice containing multiple types of data. Using for loop print the\n",
    "element and its data type.'''\n",
    "\n",
    "my_list = [1,2.3,'python',[1,2,3],(4,5), None, True, False,'Hello',{'FName': 'Himanshu','LName': 'Chaudhari'}]\n",
    "my_list_length = len(my_list)\n",
    "print(\"Length Of my list:\", my_list_length )\n",
    "\n",
    "for element in my_list:\n",
    "    element_typ = type(element)\n",
    "    print(element,':',element_typ)"
   ]
  },
  {
   "cell_type": "code",
   "execution_count": 31,
   "id": "12565fd7-aede-4ba8-9487-d9778395e18e",
   "metadata": {},
   "outputs": [
    {
     "name": "stdin",
     "output_type": "stream",
     "text": [
      "Enter Value for Numerator:  10\n",
      "Enter Value for Denominator:  2\n"
     ]
    },
    {
     "name": "stdout",
     "output_type": "stream",
     "text": [
      "5\n",
      "10 is purely divisible by 2, 1 times\n"
     ]
    }
   ],
   "source": [
    "'''Q5. Using a while loop, verify if the number A is purely divisible by number B and if so then how many\n",
    "times it can be divisible.'''\n",
    "\n",
    "a = int(input(\"Enter Value for Numerator: \"))\n",
    "b = int(input(\"Enter Value for Denominator: \"))\n",
    "\n",
    "orig_a = a\n",
    "count = 0\n",
    "\n",
    "while a % b == 0:\n",
    "    a = a // b\n",
    "    print(a)\n",
    "    count += 1\n",
    "\n",
    "if a != 0 :\n",
    "    print(f\"{orig_a} is purely divisible by {b}, {count} times\")\n",
    "else:\n",
    "    print(f\"{orig_a} is not purely divisible by {b}\")\n"
   ]
  },
  {
   "cell_type": "code",
   "execution_count": 41,
   "id": "0d163b09-504c-4755-aaa7-7d5115ded557",
   "metadata": {},
   "outputs": [
    {
     "name": "stdout",
     "output_type": "stream",
     "text": [
      "1 \u001b[91mNot Divisible\u001b[0m\n",
      "2 \u001b[91mNot Divisible\u001b[0m\n",
      "3 \u001b[32mDivisible\u001b[0m\n",
      "4 \u001b[91mNot Divisible\u001b[0m\n",
      "5 \u001b[91mNot Divisible\u001b[0m\n",
      "6 \u001b[32mDivisible\u001b[0m\n",
      "7 \u001b[91mNot Divisible\u001b[0m\n",
      "8 \u001b[91mNot Divisible\u001b[0m\n",
      "9 \u001b[32mDivisible\u001b[0m\n",
      "10 \u001b[91mNot Divisible\u001b[0m\n",
      "11 \u001b[91mNot Divisible\u001b[0m\n",
      "12 \u001b[32mDivisible\u001b[0m\n",
      "13 \u001b[91mNot Divisible\u001b[0m\n",
      "14 \u001b[91mNot Divisible\u001b[0m\n",
      "15 \u001b[32mDivisible\u001b[0m\n",
      "16 \u001b[91mNot Divisible\u001b[0m\n",
      "17 \u001b[91mNot Divisible\u001b[0m\n",
      "18 \u001b[32mDivisible\u001b[0m\n",
      "19 \u001b[91mNot Divisible\u001b[0m\n",
      "20 \u001b[91mNot Divisible\u001b[0m\n",
      "21 \u001b[32mDivisible\u001b[0m\n",
      "22 \u001b[91mNot Divisible\u001b[0m\n",
      "23 \u001b[91mNot Divisible\u001b[0m\n",
      "24 \u001b[32mDivisible\u001b[0m\n",
      "25 \u001b[91mNot Divisible\u001b[0m\n"
     ]
    }
   ],
   "source": [
    "'''Q6. Create a list containing 25 int type data. Using for loop and if-else condition print if the element is\n",
    "divisible by 3 or not.'''\n",
    "\n",
    "my_list = range(1,26)\n",
    "for i in my_list:\n",
    "    if i % 3 == 0:\n",
    "        print(i,\"\\033[32mDivisible\\033[0m\")\n",
    "    else:\n",
    "        print(i,\"\\033[91mNot Divisible\\033[0m\")"
   ]
  },
  {
   "cell_type": "code",
   "execution_count": 58,
   "id": "5af5952a-b1f5-4257-a342-de469af15f52",
   "metadata": {},
   "outputs": [
    {
     "name": "stdout",
     "output_type": "stream",
     "text": [
      "\u001b[32mExample For Mutable\u001b[0m\n",
      "My Original List [1, 2, 3, 4]\n",
      "Element at index 0: 1\n",
      "Modified List: [0, 2, 3, 4]\n",
      "\u001b[32mExample For Immutable\u001b[0m\n",
      "Original String: This Is Himanshu\n",
      "Altered String: This Is Himanshu Chaudhari\n"
     ]
    }
   ],
   "source": [
    "'''Q7. What do you understand about mutable and immutable data types? Give examples for both showing\n",
    "this property.'''\n",
    "\n",
    "# mutable\n",
    "# List: Lists are ordered collections of items,can be modified, added, and removed.\n",
    "print(\"\\033[32mExample For Mutable\\033[0m\")\n",
    "my_list = [1,2,3,4]\n",
    "print(\"My Original List\", my_list)\n",
    "print(\"Element at index 0:\", my_list[0])\n",
    "my_list[0] = 0\n",
    "print(\"Modified List:\", my_list)\n",
    "\n",
    "# immutable\n",
    "# Strings: you create new strings when you alter.\n",
    "print(\"\\033[32mExample For Immutable\\033[0m\")\n",
    "my_string = \"This Is Himanshu\"\n",
    "print(\"Original String:\",my_string)\n",
    "my_string = my_string + \" Chaudhari\"\n",
    "print(\"Altered String:\",my_string)"
   ]
  },
  {
   "cell_type": "code",
   "execution_count": null,
   "id": "21e7f771-d991-4adb-99d1-15465c6dc42e",
   "metadata": {},
   "outputs": [],
   "source": []
  }
 ],
 "metadata": {
  "kernelspec": {
   "display_name": "Python 3 (ipykernel)",
   "language": "python",
   "name": "python3"
  },
  "language_info": {
   "codemirror_mode": {
    "name": "ipython",
    "version": 3
   },
   "file_extension": ".py",
   "mimetype": "text/x-python",
   "name": "python",
   "nbconvert_exporter": "python",
   "pygments_lexer": "ipython3",
   "version": "3.10.8"
  }
 },
 "nbformat": 4,
 "nbformat_minor": 5
}
